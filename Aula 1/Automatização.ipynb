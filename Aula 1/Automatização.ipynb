{
 "metadata": {
  "language_info": {
   "codemirror_mode": {
    "name": "ipython",
    "version": 3
   },
   "file_extension": ".py",
   "mimetype": "text/x-python",
   "name": "python",
   "nbconvert_exporter": "python",
   "pygments_lexer": "ipython3",
   "version": "3.9.3"
  },
  "orig_nbformat": 2,
  "kernelspec": {
   "name": "python393jvsc74a57bd03cb854bc5878d4254ef025c64c8a2bb69c88ed49803c39d94df0bbcfec9deeb5",
   "display_name": "Python 3.9.3 64-bit"
  },
  "metadata": {
   "interpreter": {
    "hash": "3cb854bc5878d4254ef025c64c8a2bb69c88ed49803c39d94df0bbcfec9deeb5"
   }
  }
 },
 "nbformat": 4,
 "nbformat_minor": 2,
 "cells": [
  {
   "cell_type": "code",
   "execution_count": 3,
   "metadata": {},
   "outputs": [
    {
     "output_type": "display_data",
     "data": {
      "text/plain": "      Código Venda       Data                     ID Loja           Produto  \\\n0            65014 2019-12-01            Shopping Morumbi    Sunga Listrado   \n1            65014 2019-12-01            Shopping Morumbi   Casaco Listrado   \n2            65016 2019-12-01           Iguatemi Campinas   Sapato Listrado   \n3            65016 2019-12-01           Iguatemi Campinas            Casaco   \n4            65017 2019-12-01          Shopping SP Market        Gorro Liso   \n...            ...        ...                         ...               ...   \n7084         69996 2019-12-26  Center Shopping Uberlândia    Short Listrado   \n7085         69996 2019-12-26  Center Shopping Uberlândia           Mochila   \n7086         69996 2019-12-26  Center Shopping Uberlândia  Pulseira Estampa   \n7087         69997 2019-12-26           Ribeirão Shopping   Camisa Listrado   \n7088         69997 2019-12-26           Ribeirão Shopping       Short Linho   \n\n      Quantidade  Valor Unitário  Valor Final  \n0              5             114          570  \n1              1             269          269  \n2              2             363          726  \n3              1             250          250  \n4              3              92          276  \n...          ...             ...          ...  \n7084           2             102          204  \n7085           4             270         1080  \n7086           1              87           87  \n7087           1             108          108  \n7088           2             133          266  \n\n[7089 rows x 7 columns]",
      "text/html": "<div>\n<style scoped>\n    .dataframe tbody tr th:only-of-type {\n        vertical-align: middle;\n    }\n\n    .dataframe tbody tr th {\n        vertical-align: top;\n    }\n\n    .dataframe thead th {\n        text-align: right;\n    }\n</style>\n<table border=\"1\" class=\"dataframe\">\n  <thead>\n    <tr style=\"text-align: right;\">\n      <th></th>\n      <th>Código Venda</th>\n      <th>Data</th>\n      <th>ID Loja</th>\n      <th>Produto</th>\n      <th>Quantidade</th>\n      <th>Valor Unitário</th>\n      <th>Valor Final</th>\n    </tr>\n  </thead>\n  <tbody>\n    <tr>\n      <th>0</th>\n      <td>65014</td>\n      <td>2019-12-01</td>\n      <td>Shopping Morumbi</td>\n      <td>Sunga Listrado</td>\n      <td>5</td>\n      <td>114</td>\n      <td>570</td>\n    </tr>\n    <tr>\n      <th>1</th>\n      <td>65014</td>\n      <td>2019-12-01</td>\n      <td>Shopping Morumbi</td>\n      <td>Casaco Listrado</td>\n      <td>1</td>\n      <td>269</td>\n      <td>269</td>\n    </tr>\n    <tr>\n      <th>2</th>\n      <td>65016</td>\n      <td>2019-12-01</td>\n      <td>Iguatemi Campinas</td>\n      <td>Sapato Listrado</td>\n      <td>2</td>\n      <td>363</td>\n      <td>726</td>\n    </tr>\n    <tr>\n      <th>3</th>\n      <td>65016</td>\n      <td>2019-12-01</td>\n      <td>Iguatemi Campinas</td>\n      <td>Casaco</td>\n      <td>1</td>\n      <td>250</td>\n      <td>250</td>\n    </tr>\n    <tr>\n      <th>4</th>\n      <td>65017</td>\n      <td>2019-12-01</td>\n      <td>Shopping SP Market</td>\n      <td>Gorro Liso</td>\n      <td>3</td>\n      <td>92</td>\n      <td>276</td>\n    </tr>\n    <tr>\n      <th>...</th>\n      <td>...</td>\n      <td>...</td>\n      <td>...</td>\n      <td>...</td>\n      <td>...</td>\n      <td>...</td>\n      <td>...</td>\n    </tr>\n    <tr>\n      <th>7084</th>\n      <td>69996</td>\n      <td>2019-12-26</td>\n      <td>Center Shopping Uberlândia</td>\n      <td>Short Listrado</td>\n      <td>2</td>\n      <td>102</td>\n      <td>204</td>\n    </tr>\n    <tr>\n      <th>7085</th>\n      <td>69996</td>\n      <td>2019-12-26</td>\n      <td>Center Shopping Uberlândia</td>\n      <td>Mochila</td>\n      <td>4</td>\n      <td>270</td>\n      <td>1080</td>\n    </tr>\n    <tr>\n      <th>7086</th>\n      <td>69996</td>\n      <td>2019-12-26</td>\n      <td>Center Shopping Uberlândia</td>\n      <td>Pulseira Estampa</td>\n      <td>1</td>\n      <td>87</td>\n      <td>87</td>\n    </tr>\n    <tr>\n      <th>7087</th>\n      <td>69997</td>\n      <td>2019-12-26</td>\n      <td>Ribeirão Shopping</td>\n      <td>Camisa Listrado</td>\n      <td>1</td>\n      <td>108</td>\n      <td>108</td>\n    </tr>\n    <tr>\n      <th>7088</th>\n      <td>69997</td>\n      <td>2019-12-26</td>\n      <td>Ribeirão Shopping</td>\n      <td>Short Linho</td>\n      <td>2</td>\n      <td>133</td>\n      <td>266</td>\n    </tr>\n  </tbody>\n</table>\n<p>7089 rows × 7 columns</p>\n</div>"
     },
     "metadata": {}
    },
    {
     "output_type": "execute_result",
     "data": {
      "text/plain": [
       "'OK'"
      ]
     },
     "metadata": {},
     "execution_count": 3
    }
   ],
   "source": [
    "import pyautogui as pg\n",
    "import time\n",
    "import pyperclip as pc\n",
    "import pandas as pd\n",
    "\n",
    "\n",
    "pg.PAUSE = 1\n",
    "# avisar que começou\n",
    "pg.alert(\"Começou\")\n",
    "# Abrir o navegador Opera\n",
    "pg.press(\"win\")\n",
    "pg.write(\"Opera GX\")\n",
    "pg.press(\"enter\")\n",
    "# abrir drive\n",
    "link = \"https://drive.google.com/drive/folders/1wRTFw0sUVBjRr4hW5U9LF7DjLixRyxym\"\n",
    "pc.copy(link)\n",
    "time.sleep(5)\n",
    "pg.hotkey(\"ctrl\", \"v\")\n",
    "pg.press(\"enter\")\n",
    "time.sleep(10)\n",
    "# baixar base de dados atualizada\n",
    "pg.click(426, 251)\n",
    "pg.click(1150, 154)\n",
    "pg.click(925, 531)\n",
    "time.sleep(10)\n",
    "pg.press(\"enter\")\n",
    "time.sleep(15)\n",
    "# analisar base de dados atualizada\n",
    "tabela = pd.read_excel(r\"C:\\Users\\Metwally\\Downloads\\Vendas - Dez.xlsx\")\n",
    "display(tabela)\n",
    "faturamento = tabela[\"Valor Final\"].sum()\n",
    "qtd_produtos = tabela[\"Quantidade\"].sum()\n",
    "# abrir aba gmail\n",
    "pg.hotkey(\"ctrl\", \"t\")\n",
    "link = \"https://mail.google.com/mail/u/0/#inbox\"\n",
    "pc.copy(link)\n",
    "time.sleep(10)\n",
    "pg.hotkey(\"ctrl\", \"v\")\n",
    "pg.press(\"enter\")\n",
    "time.sleep(10)\n",
    "# clicar em escrever email\n",
    "pg.click(133,173)\n",
    "time.sleep(10)\n",
    "# preencher informações do e-mail\n",
    "pg.write(\"tawfikaly02+meu_email@gmail.com\")\n",
    "pg.press(\"tab\")\n",
    "pg.press(\"tab\")\n",
    "assunto = \"Relatório de Vendas de Ontem\"\n",
    "pc.copy(assunto)\n",
    "pg.hotkey(\"ctrl\",\"v\")\n",
    "pg.press(\"tab\")\n",
    "texto = f\"\"\"\n",
    "Prezados, bom dia\n",
    "\n",
    "O faturamento de ontem foi de: R${faturamento:,.2f}\n",
    "A quantidade de produtos foi de: {qtd_produtos:,}\n",
    "\n",
    "Atenciosamente;\n",
    "Tawfik Metwally.\n",
    "\"\"\"\n",
    "pc.copy(texto)\n",
    "pg.hotkey(\"ctrl\",\"v\")\n",
    "# enviar e-mail\n",
    "pg.hotkey('ctrl', 'enter')\n",
    "# avisar que acabou\n",
    "pg.alert(\"Terminou\")"
   ]
  },
  {
   "cell_type": "code",
   "execution_count": 38,
   "metadata": {},
   "outputs": [
    {
     "output_type": "execute_result",
     "data": {
      "text/plain": [
       "Point(x=133, y=173)"
      ]
     },
     "metadata": {},
     "execution_count": 38
    }
   ],
   "source": [
    "import pyautogui\n",
    "import time\n",
    "\n",
    "time.sleep(10)\n",
    "pyautogui.position()\n"
   ]
  }
 ]
}