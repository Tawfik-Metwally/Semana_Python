{
 "cells": [
  {
   "cell_type": "markdown",
   "metadata": {},
   "source": [
    "# Automação Web e Busca de Informações com Python\n",
    "\n",
    "#### Desafio: \n",
    "\n",
    "Trabalhamos em uma importadora e o preço dos nossos produtos é vinculado a cotação de:\n",
    "- Dólar\n",
    "- Euro\n",
    "- Ouro\n",
    "\n",
    "Precisamos pegar na internet, de forma automática, a cotação desses 3 itens e saber quanto devemos cobrar pelos nossos produtos, considerando uma margem de contribuição que temos na nossa base de dados.\n",
    "\n",
    "Base de Dados: https://drive.google.com/drive/folders/1QHOQt1J7d5Z4sBFKL9GN699OcPh2aVaP?usp=sharing\n",
    "\n",
    "Para isso, vamos criar uma automação web:\n",
    "\n",
    "- Usaremos o selenium\n",
    "- Importante: baixar o webdriver"
   ]
  },
  {
   "cell_type": "code",
   "execution_count": 33,
   "metadata": {},
   "outputs": [
    {
     "output_type": "stream",
     "name": "stdout",
     "text": [
      "5.3382\n",
      "6.465227475000001\n",
      "304.29\n"
     ]
    }
   ],
   "source": [
    "from selenium import webdriver\n",
    "from selenium.webdriver.common.keys import Keys\n",
    "\n",
    "#Abrir o navegador\n",
    "navegador = webdriver.Chrome()\n",
    "\n",
    "# pesquisar cotação dolar\n",
    "navegador.get(\"https://www.google.com/\")\n",
    "navegador.find_element_by_xpath('/html/body/div[1]/div[3]/form/div[1]/div[1]/div[1]/div/div[2]/input').send_keys(\"cotação dolar\")\n",
    "navegador.find_element_by_xpath('/html/body/div[1]/div[3]/form/div[1]/div[1]/div[1]/div/div[2]/input').send_keys(Keys.ENTER)\n",
    "cotacao_dolar = navegador.find_element_by_xpath('//*[@id=\"knowledge-currency__updatable-data-column\"]/div[1]/div[2]/span[1]').get_attribute('data-value')\n",
    "print(cotacao_dolar)\n",
    "\n",
    "# pesquisar cotação euro\n",
    "navegador.get(\"https://www.google.com/\")\n",
    "navegador.find_element_by_xpath('/html/body/div[1]/div[3]/form/div[1]/div[1]/div[1]/div/div[2]/input').send_keys(\"cotação euro\")\n",
    "navegador.find_element_by_xpath('/html/body/div[1]/div[3]/form/div[1]/div[1]/div[1]/div/div[2]/input').send_keys(Keys.ENTER)\n",
    "cotacao_euro = navegador.find_element_by_xpath('//*[@id=\"knowledge-currency__updatable-data-column\"]/div[1]/div[2]/span[1]').get_attribute('data-value')\n",
    "print(cotacao_euro)\n",
    "\n",
    "# pesquisar cotação ouro\n",
    "navegador.get(\"https://www.melhorcambio.com/\")\n",
    "aba_original = navegador.window_handles[0]\n",
    "navegador.find_element_by_xpath('//*[@id=\"commodity-hoje\"]/tbody/tr[2]/td[2]/a/img').click()\n",
    "aba_nova = navegador.window_handles[1]\n",
    "navegador.switch_to.window(aba_nova)\n",
    "cotacao_ouro = navegador.find_element_by_xpath('//*[@id=\"comercial\"]').get_attribute('value')\n",
    "cotacao_ouro = cotacao_ouro.replace(',','.')\n",
    "print(cotacao_ouro)\n",
    "navegador.quit()"
   ]
  },
  {
   "cell_type": "markdown",
   "metadata": {},
   "source": [
    "### Agora vamos atualiza a nossa base de preços com as novas cotações"
   ]
  },
  {
   "cell_type": "markdown",
   "metadata": {},
   "source": [
    "- Importando a base de dados"
   ]
  },
  {
   "cell_type": "code",
   "execution_count": 34,
   "metadata": {
    "scrolled": true
   },
   "outputs": [
    {
     "output_type": "display_data",
     "data": {
      "text/plain": "         Produtos  Preço Base Original  Moeda  Cotação  Preço Base Reais  \\\n0    Câmera Canon               999.99  Dólar        5           4999.95   \n1   Carro Renault              4500.00   Euro        6          27000.00   \n2   Notebook Dell               899.99  Dólar        5           4499.95   \n3          IPhone               799.00  Dólar        5           3995.00   \n4      Carro Fiat              3000.00   Euro        6          18000.00   \n5  Celular Xiaomi               480.48  Dólar        5           2402.40   \n6        Joia 20g                20.00   Ouro      350           7000.00   \n\n   Ajuste  Preço Final  \n0    1.40     6999.930  \n1    2.00    54000.000  \n2    1.70     7649.915  \n3    1.70     6791.500  \n4    1.90    34200.000  \n5    2.00     4804.800  \n6    1.15     8050.000  ",
      "text/html": "<div>\n<style scoped>\n    .dataframe tbody tr th:only-of-type {\n        vertical-align: middle;\n    }\n\n    .dataframe tbody tr th {\n        vertical-align: top;\n    }\n\n    .dataframe thead th {\n        text-align: right;\n    }\n</style>\n<table border=\"1\" class=\"dataframe\">\n  <thead>\n    <tr style=\"text-align: right;\">\n      <th></th>\n      <th>Produtos</th>\n      <th>Preço Base Original</th>\n      <th>Moeda</th>\n      <th>Cotação</th>\n      <th>Preço Base Reais</th>\n      <th>Ajuste</th>\n      <th>Preço Final</th>\n    </tr>\n  </thead>\n  <tbody>\n    <tr>\n      <th>0</th>\n      <td>Câmera Canon</td>\n      <td>999.99</td>\n      <td>Dólar</td>\n      <td>5</td>\n      <td>4999.95</td>\n      <td>1.40</td>\n      <td>6999.930</td>\n    </tr>\n    <tr>\n      <th>1</th>\n      <td>Carro Renault</td>\n      <td>4500.00</td>\n      <td>Euro</td>\n      <td>6</td>\n      <td>27000.00</td>\n      <td>2.00</td>\n      <td>54000.000</td>\n    </tr>\n    <tr>\n      <th>2</th>\n      <td>Notebook Dell</td>\n      <td>899.99</td>\n      <td>Dólar</td>\n      <td>5</td>\n      <td>4499.95</td>\n      <td>1.70</td>\n      <td>7649.915</td>\n    </tr>\n    <tr>\n      <th>3</th>\n      <td>IPhone</td>\n      <td>799.00</td>\n      <td>Dólar</td>\n      <td>5</td>\n      <td>3995.00</td>\n      <td>1.70</td>\n      <td>6791.500</td>\n    </tr>\n    <tr>\n      <th>4</th>\n      <td>Carro Fiat</td>\n      <td>3000.00</td>\n      <td>Euro</td>\n      <td>6</td>\n      <td>18000.00</td>\n      <td>1.90</td>\n      <td>34200.000</td>\n    </tr>\n    <tr>\n      <th>5</th>\n      <td>Celular Xiaomi</td>\n      <td>480.48</td>\n      <td>Dólar</td>\n      <td>5</td>\n      <td>2402.40</td>\n      <td>2.00</td>\n      <td>4804.800</td>\n    </tr>\n    <tr>\n      <th>6</th>\n      <td>Joia 20g</td>\n      <td>20.00</td>\n      <td>Ouro</td>\n      <td>350</td>\n      <td>7000.00</td>\n      <td>1.15</td>\n      <td>8050.000</td>\n    </tr>\n  </tbody>\n</table>\n</div>"
     },
     "metadata": {}
    }
   ],
   "source": [
    "import pandas as pd\n",
    "\n",
    "Tabela_Produtos = pd.read_excel('Produtos.xlsx')\n",
    "display(Tabela_Produtos)"
   ]
  },
  {
   "cell_type": "markdown",
   "metadata": {},
   "source": [
    "- Atualizando os preços e o cálculo do Preço Final"
   ]
  },
  {
   "cell_type": "code",
   "execution_count": 35,
   "metadata": {},
   "outputs": [
    {
     "output_type": "display_data",
     "data": {
      "text/plain": "         Produtos  Preço Base Original  Moeda     Cotação  Preço Base Reais  \\\n0    Câmera Canon               999.99  Dólar    5.338200       5338.146618   \n1   Carro Renault              4500.00   Euro    6.465227      29093.523638   \n2   Notebook Dell               899.99  Dólar    5.338200       4804.326618   \n3          IPhone               799.00  Dólar    5.338200       4265.221800   \n4      Carro Fiat              3000.00   Euro    6.465227      19395.682425   \n5  Celular Xiaomi               480.48  Dólar    5.338200       2564.898336   \n6        Joia 20g                20.00   Ouro  304.290000       6085.800000   \n\n   Ajuste Preço Final  \n0    1.40     7473.41  \n1    2.00    58187.05  \n2    1.70     8167.36  \n3    1.70     7250.88  \n4    1.90    36851.80  \n5    2.00     5129.80  \n6    1.15     6998.67  ",
      "text/html": "<div>\n<style scoped>\n    .dataframe tbody tr th:only-of-type {\n        vertical-align: middle;\n    }\n\n    .dataframe tbody tr th {\n        vertical-align: top;\n    }\n\n    .dataframe thead th {\n        text-align: right;\n    }\n</style>\n<table border=\"1\" class=\"dataframe\">\n  <thead>\n    <tr style=\"text-align: right;\">\n      <th></th>\n      <th>Produtos</th>\n      <th>Preço Base Original</th>\n      <th>Moeda</th>\n      <th>Cotação</th>\n      <th>Preço Base Reais</th>\n      <th>Ajuste</th>\n      <th>Preço Final</th>\n    </tr>\n  </thead>\n  <tbody>\n    <tr>\n      <th>0</th>\n      <td>Câmera Canon</td>\n      <td>999.99</td>\n      <td>Dólar</td>\n      <td>5.338200</td>\n      <td>5338.146618</td>\n      <td>1.40</td>\n      <td>7473.41</td>\n    </tr>\n    <tr>\n      <th>1</th>\n      <td>Carro Renault</td>\n      <td>4500.00</td>\n      <td>Euro</td>\n      <td>6.465227</td>\n      <td>29093.523638</td>\n      <td>2.00</td>\n      <td>58187.05</td>\n    </tr>\n    <tr>\n      <th>2</th>\n      <td>Notebook Dell</td>\n      <td>899.99</td>\n      <td>Dólar</td>\n      <td>5.338200</td>\n      <td>4804.326618</td>\n      <td>1.70</td>\n      <td>8167.36</td>\n    </tr>\n    <tr>\n      <th>3</th>\n      <td>IPhone</td>\n      <td>799.00</td>\n      <td>Dólar</td>\n      <td>5.338200</td>\n      <td>4265.221800</td>\n      <td>1.70</td>\n      <td>7250.88</td>\n    </tr>\n    <tr>\n      <th>4</th>\n      <td>Carro Fiat</td>\n      <td>3000.00</td>\n      <td>Euro</td>\n      <td>6.465227</td>\n      <td>19395.682425</td>\n      <td>1.90</td>\n      <td>36851.80</td>\n    </tr>\n    <tr>\n      <th>5</th>\n      <td>Celular Xiaomi</td>\n      <td>480.48</td>\n      <td>Dólar</td>\n      <td>5.338200</td>\n      <td>2564.898336</td>\n      <td>2.00</td>\n      <td>5129.80</td>\n    </tr>\n    <tr>\n      <th>6</th>\n      <td>Joia 20g</td>\n      <td>20.00</td>\n      <td>Ouro</td>\n      <td>304.290000</td>\n      <td>6085.800000</td>\n      <td>1.15</td>\n      <td>6998.67</td>\n    </tr>\n  </tbody>\n</table>\n</div>"
     },
     "metadata": {}
    }
   ],
   "source": [
    "Tabela_Produtos.loc[Tabela_Produtos[\"Moeda\"]==\"Dólar\",\"Cotação\"] = float(cotacao_dolar)\n",
    "Tabela_Produtos.loc[Tabela_Produtos[\"Moeda\"]==\"Euro\",\"Cotação\"] = float(cotacao_euro)\n",
    "Tabela_Produtos.loc[Tabela_Produtos[\"Moeda\"]==\"Ouro\",\"Cotação\"] = float(cotacao_ouro)\n",
    "\n",
    "Tabela_Produtos['Preço Base Reais'] = Tabela_Produtos['Preço Base Original'] * Tabela_Produtos['Cotação']\n",
    "Tabela_Produtos['Preço Final'] = Tabela_Produtos['Ajuste'] * Tabela_Produtos['Preço Base Reais']\n",
    "Tabela_Produtos['Preço Final'] = Tabela_Produtos['Preço Final'].map('{:.2f}'.format)\n",
    "display(Tabela_Produtos)"
   ]
  },
  {
   "cell_type": "markdown",
   "metadata": {},
   "source": [
    "### Agora vamos exportar a nova base de preços atualizada"
   ]
  },
  {
   "cell_type": "code",
   "execution_count": 36,
   "metadata": {},
   "outputs": [],
   "source": [
    "Tabela_Produtos.to_excel('Produtos Atualizados.xlsx')"
   ]
  }
 ],
 "metadata": {
  "kernelspec": {
   "name": "python393jvsc74a57bd03cb854bc5878d4254ef025c64c8a2bb69c88ed49803c39d94df0bbcfec9deeb5",
   "display_name": "Python 3.9.3 64-bit"
  },
  "language_info": {
   "codemirror_mode": {
    "name": "ipython",
    "version": 3
   },
   "file_extension": ".py",
   "mimetype": "text/x-python",
   "name": "python",
   "nbconvert_exporter": "python",
   "pygments_lexer": "ipython3",
   "version": "3.9.3"
  },
  "metadata": {
   "interpreter": {
    "hash": "3cb854bc5878d4254ef025c64c8a2bb69c88ed49803c39d94df0bbcfec9deeb5"
   }
  }
 },
 "nbformat": 4,
 "nbformat_minor": 4
}